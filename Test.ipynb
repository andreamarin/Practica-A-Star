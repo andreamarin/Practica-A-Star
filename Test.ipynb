{
 "cells": [
  {
   "cell_type": "code",
   "execution_count": 1,
   "metadata": {},
   "outputs": [],
   "source": [
    "%matplotlib tk"
   ]
  },
  {
   "cell_type": "code",
   "execution_count": 2,
   "metadata": {},
   "outputs": [],
   "source": [
    "import numpy as np\n",
    "import scipy.misc as misc\n",
    "import matplotlib.pyplot as plt\n",
    "import json\n",
    "import imageio\n",
    "\n",
    "def indexOfClosest(x, y, px, py):\n",
    "     return np.argmin([(x-px[i])**2 + (y-py[i])**2 for i in range(len(px))])\n",
    "\n",
    "pX = []\n",
    "pY = []\n",
    "nombres = []\n",
    "\n",
    "start = 0\n",
    "end = 1"
   ]
  },
  {
   "cell_type": "code",
   "execution_count": 3,
   "metadata": {},
   "outputs": [
    {
     "name": "stderr",
     "output_type": "stream",
     "text": [
      "D:\\Anaconda3\\lib\\site-packages\\ipykernel_launcher.py:2: DeprecationWarning: `imresize` is deprecated!\n",
      "`imresize` is deprecated in SciPy 1.0.0, and will be removed in 1.2.0.\n",
      "Use ``skimage.transform.resize`` instead.\n",
      "  \n"
     ]
    }
   ],
   "source": [
    "MEX = imageio.imread(\"assets/mexico.gif\")\n",
    "MEX = misc.imresize(MEX,185)\n",
    "cities = json.load(open(\"data/data.json\", 'r'))\n",
    "roads = json.load(open(\"data/connect5.json\"))"
   ]
  },
  {
   "cell_type": "code",
   "execution_count": 4,
   "metadata": {},
   "outputs": [],
   "source": [
    "#Inicializa puntos y nombres\n",
    "tot = len(cities)\n",
    "for i in range(tot):\n",
    "    coorx, coory, nom = cities[str(i)]\n",
    "    pX.append(coorx)\n",
    "    pY.append(coory)\n",
    "    nombres.append(nom)"
   ]
  },
  {
   "cell_type": "code",
   "execution_count": 5,
   "metadata": {},
   "outputs": [],
   "source": [
    "#Crear matriz de conexiones para pintar\n",
    "\n",
    "R = np.zeros((tot, tot))\n",
    "for k in roads.keys():\n",
    "    for j in roads[k].keys():\n",
    "        if int(k)<int(j):\n",
    "            R[int(k),int(j)] = 1\n",
    "        else:\n",
    "            R[int(j),int(k)] = 1"
   ]
  },
  {
   "cell_type": "code",
   "execution_count": 6,
   "metadata": {
    "scrolled": false
   },
   "outputs": [],
   "source": [
    "fig = plt.figure()\n",
    "ax = fig.add_subplot(111)\n",
    "ax.imshow(MEX)\n",
    "sctr = ax.scatter(pX,pY,c=['b']*len(pX))\n",
    "\n",
    "#Crea las conexiones del grafo\n",
    "for i in range(tot):\n",
    "    for j in range(i,tot):\n",
    "        if R[i,j]==1:\n",
    "            ax.plot([ pX[i], pX[j] ], [ pY[i], pY[j] ], linewidth=0.5, c='k')\n",
    "\n",
    "def onClick(event):\n",
    "    global start\n",
    "    global end\n",
    "    \n",
    "    print(\"Botton: \" + str(event.button))\n",
    "    if event.inaxes != ax:\n",
    "        print(\"No\")\n",
    "    else:\n",
    "        print(\"Si\")\n",
    "        \n",
    "        X = event.xdata\n",
    "        Y = event.ydata\n",
    "        i = indexOfClosest(X, Y, pX, pY)\n",
    "        \n",
    "        if event.button == 1:\n",
    "            print(i)\n",
    "            sctr._facecolors[start]=(0,0,1,1)\n",
    "            start = i\n",
    "            sctr._facecolors[start]=(0,1,0,1)\n",
    "            fig.canvas.draw()\n",
    "        elif event.button == 3:\n",
    "            print(i)\n",
    "            sctr._facecolors[end]=(0,0,1,1)\n",
    "            end = i\n",
    "            sctr._facecolors[end]=(1,0,0,1)\n",
    "            fig.canvas.draw()\n",
    "        \n",
    "\n",
    "cid = fig.canvas.mpl_connect('button_press_event', onClick)"
   ]
  }
 ],
 "metadata": {
  "kernelspec": {
   "display_name": "Python 3",
   "language": "python",
   "name": "python3"
  },
  "language_info": {
   "codemirror_mode": {
    "name": "ipython",
    "version": 3
   },
   "file_extension": ".py",
   "mimetype": "text/x-python",
   "name": "python",
   "nbconvert_exporter": "python",
   "pygments_lexer": "ipython3",
   "version": "3.6.4"
  }
 },
 "nbformat": 4,
 "nbformat_minor": 2
}
