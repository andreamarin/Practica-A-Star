{
 "cells": [
  {
   "cell_type": "code",
   "execution_count": 1,
   "metadata": {},
   "outputs": [
    {
     "name": "stderr",
     "output_type": "stream",
     "text": [
      "D:\\Anaconda3\\lib\\site-packages\\ipykernel_launcher.py:18: DeprecationWarning: `imresize` is deprecated!\n",
      "`imresize` is deprecated in SciPy 1.0.0, and will be removed in 1.2.0.\n",
      "Use ``skimage.transform.resize`` instead.\n"
     ]
    }
   ],
   "source": [
    "%matplotlib tk\n",
    "\n",
    "import numpy as np\n",
    "import scipy.misc as misc\n",
    "import matplotlib.pyplot as plt\n",
    "import json\n",
    "import imageio\n",
    "from tkinter import *\n",
    "from matplotlib.backends.backend_tkagg import FigureCanvasTkAgg\n",
    "\n",
    "def indexOfClosest(x, y, px, py):\n",
    "     return np.argmin([(x-px[i])**2 + (y-py[i])**2 for i in range(len(px))])\n",
    "\n",
    "pX = []\n",
    "pY = []\n",
    "nombres = []\n",
    "MEX = imageio.imread(\"assets/mexico.gif\")\n",
    "MEX = misc.imresize(MEX,185)\n",
    "cities = json.load(open(\"data/data.json\", 'r'))\n",
    "roads = json.load(open(\"data/connect5.json\"))\n",
    "\n",
    "#Inicializa puntos y nombres\n",
    "tot = len(cities)\n",
    "for i in range(tot):\n",
    "    coorx, coory, nom = cities[str(i)]\n",
    "    pX.append(coorx)\n",
    "    pY.append(coory)\n",
    "    nombres.append(nom)\n",
    "\n",
    "#Crear matriz de conexiones para pintar\n",
    "\n",
    "R = np.zeros((tot, tot))\n",
    "for k in roads.keys():\n",
    "    for j in roads[k].keys():\n",
    "        if int(k)<int(j):\n",
    "            R[int(k),int(j)] = 1\n",
    "        else:\n",
    "            R[int(j),int(k)] = 1    \n",
    "            \n",
    "\n",
    "class App:\n",
    "    def __init__(self, master):\n",
    "        frame = Frame()\n",
    "        \n",
    "        ##Inicializa cosas\n",
    "        self.start = 0\n",
    "        self.end = 1\n",
    "        \n",
    "        #Creacion del plot\n",
    "        self.fig = plt.figure()\n",
    "        self.ax = self.fig.add_subplot(111)\n",
    "        self.ax.imshow(MEX)\n",
    "        self.sctr = self.ax.scatter(pX,pY,c=['b']*len(pX))\n",
    "        \n",
    "        #Crea las conexiones del grafo\n",
    "        for i in range(tot):\n",
    "            for j in range(i,tot):\n",
    "                if R[i,j]==1:\n",
    "                    self.ax.plot([ pX[i], pX[j] ], [ pY[i], pY[j] ], linewidth=0.5, c='k')\n",
    "        self.cid = self.fig.canvas.mpl_connect('button_press_event', self.onClick)\n",
    "        \n",
    "        \n",
    "        #Botones\n",
    "        b1 = Button(master, text=\"Calcular Ruta\")\n",
    "        b1.pack()\n",
    "        b2 = Button(master, text=\"Borrar\")\n",
    "        b2.pack()\n",
    "        self.canvas = FigureCanvasTkAgg(self.fig,master=root)\n",
    "        self.canvas.show()\n",
    "        self.canvas.get_tk_widget().pack(side='top', fill='both', expand=1)\n",
    "        \n",
    "    \n",
    "    def onClick(event):\n",
    "        \n",
    "        print(\"Botton: \" + str(event.button))\n",
    "        if event.inaxes != self.ax:\n",
    "            print(\"No\")\n",
    "        else:\n",
    "            print(\"Si\")\n",
    "\n",
    "            X = event.xdata\n",
    "            Y = event.ydata\n",
    "            i = indexOfClosest(X, Y, self.pX, self.pY)\n",
    "\n",
    "            if event.button == 1:\n",
    "                print(i)\n",
    "                self.sctr._facecolors[start]=(0,0,1,1)\n",
    "                self.start = i\n",
    "                self.sctr._facecolors[start]=(0,1,0,1)\n",
    "                self.canvas.draw()\n",
    "            elif event.button == 3:\n",
    "                print(i)\n",
    "                self.sctr._facecolors[end]=(0,0,1,1)\n",
    "                self.end = i\n",
    "                self.sctr._facecolors[end]=(1,0,0,1)\n",
    "                self.canvasMapa.draw()"
   ]
  },
  {
   "cell_type": "code",
   "execution_count": 2,
   "metadata": {},
   "outputs": [
    {
     "ename": "AttributeError",
     "evalue": "'FigureCanvasTkAgg' object has no attribute 'bind'",
     "output_type": "error",
     "traceback": [
      "\u001b[1;31m---------------------------------------------------------------------------\u001b[0m",
      "\u001b[1;31mAttributeError\u001b[0m                            Traceback (most recent call last)",
      "\u001b[1;32m<ipython-input-2-a3151f2da20f>\u001b[0m in \u001b[0;36m<module>\u001b[1;34m()\u001b[0m\n\u001b[0;32m      1\u001b[0m \u001b[0mroot\u001b[0m\u001b[1;33m=\u001b[0m\u001b[0mTk\u001b[0m\u001b[1;33m(\u001b[0m\u001b[1;33m)\u001b[0m\u001b[1;33m\u001b[0m\u001b[0m\n\u001b[1;32m----> 2\u001b[1;33m \u001b[0ma\u001b[0m \u001b[1;33m=\u001b[0m \u001b[0mApp\u001b[0m\u001b[1;33m(\u001b[0m\u001b[0mroot\u001b[0m\u001b[1;33m)\u001b[0m\u001b[1;33m\u001b[0m\u001b[0m\n\u001b[0m\u001b[0;32m      3\u001b[0m \u001b[0mroot\u001b[0m\u001b[1;33m.\u001b[0m\u001b[0mmainloop\u001b[0m\u001b[1;33m(\u001b[0m\u001b[1;33m)\u001b[0m\u001b[1;33m\u001b[0m\u001b[0m\n",
      "\u001b[1;32m<ipython-input-1-f7f52857c423>\u001b[0m in \u001b[0;36m__init__\u001b[1;34m(self, master)\u001b[0m\n\u001b[0;32m     69\u001b[0m         \u001b[0mself\u001b[0m\u001b[1;33m.\u001b[0m\u001b[0mcanvas\u001b[0m\u001b[1;33m.\u001b[0m\u001b[0mshow\u001b[0m\u001b[1;33m(\u001b[0m\u001b[1;33m)\u001b[0m\u001b[1;33m\u001b[0m\u001b[0m\n\u001b[0;32m     70\u001b[0m         \u001b[0mself\u001b[0m\u001b[1;33m.\u001b[0m\u001b[0mcanvas\u001b[0m\u001b[1;33m.\u001b[0m\u001b[0mget_tk_widget\u001b[0m\u001b[1;33m(\u001b[0m\u001b[1;33m)\u001b[0m\u001b[1;33m.\u001b[0m\u001b[0mpack\u001b[0m\u001b[1;33m(\u001b[0m\u001b[0mside\u001b[0m\u001b[1;33m=\u001b[0m\u001b[1;34m'top'\u001b[0m\u001b[1;33m,\u001b[0m \u001b[0mfill\u001b[0m\u001b[1;33m=\u001b[0m\u001b[1;34m'both'\u001b[0m\u001b[1;33m,\u001b[0m \u001b[0mexpand\u001b[0m\u001b[1;33m=\u001b[0m\u001b[1;36m1\u001b[0m\u001b[1;33m)\u001b[0m\u001b[1;33m\u001b[0m\u001b[0m\n\u001b[1;32m---> 71\u001b[1;33m         \u001b[0mself\u001b[0m\u001b[1;33m.\u001b[0m\u001b[0mcanvas\u001b[0m\u001b[1;33m.\u001b[0m\u001b[0mbind\u001b[0m\u001b[1;33m(\u001b[0m\u001b[1;34m\"<Button-1>\"\u001b[0m\u001b[1;33m,\u001b[0m \u001b[0mself\u001b[0m\u001b[1;33m.\u001b[0m\u001b[0monClick\u001b[0m\u001b[1;33m)\u001b[0m\u001b[1;33m\u001b[0m\u001b[0m\n\u001b[0m\u001b[0;32m     72\u001b[0m \u001b[1;33m\u001b[0m\u001b[0m\n\u001b[0;32m     73\u001b[0m     \u001b[1;32mdef\u001b[0m \u001b[0monClick\u001b[0m\u001b[1;33m(\u001b[0m\u001b[0mevent\u001b[0m\u001b[1;33m)\u001b[0m\u001b[1;33m:\u001b[0m\u001b[1;33m\u001b[0m\u001b[0m\n",
      "\u001b[1;31mAttributeError\u001b[0m: 'FigureCanvasTkAgg' object has no attribute 'bind'"
     ]
    }
   ],
   "source": [
    "root=Tk()\n",
    "a = App(root)\n",
    "root.mainloop()"
   ]
  },
  {
   "cell_type": "code",
   "execution_count": null,
   "metadata": {},
   "outputs": [],
   "source": []
  }
 ],
 "metadata": {
  "kernelspec": {
   "display_name": "Python 3",
   "language": "python",
   "name": "python3"
  },
  "language_info": {
   "codemirror_mode": {
    "name": "ipython",
    "version": 3
   },
   "file_extension": ".py",
   "mimetype": "text/x-python",
   "name": "python",
   "nbconvert_exporter": "python",
   "pygments_lexer": "ipython3",
   "version": "3.6.4"
  }
 },
 "nbformat": 4,
 "nbformat_minor": 2
}
